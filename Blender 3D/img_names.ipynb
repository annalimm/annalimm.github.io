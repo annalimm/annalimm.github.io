{
 "cells": [
  {
   "cell_type": "code",
   "execution_count": 14,
   "id": "a500dc41-7d70-4793-8885-b1920b61e418",
   "metadata": {},
   "outputs": [],
   "source": [
    "import os"
   ]
  },
  {
   "cell_type": "code",
   "execution_count": 15,
   "id": "fe553f9b-cab0-4ec9-9e05-8d487435224c",
   "metadata": {},
   "outputs": [
    {
     "name": "stdout",
     "output_type": "stream",
     "text": [
      "Image files renamed successfully!\n"
     ]
    }
   ],
   "source": [
    "import os\n",
    "\n",
    "# Directory containing the image files and DC_store file\n",
    "directory = \"/Users/ash/Desktop/webcite/Blender 3D/Bell_imgs\"\n",
    "\n",
    "# Rename the image files\n",
    "for filename in os.listdir(directory):\n",
    "    if filename.startswith(\"DCIM_\"):  # Handle the DC_store file separately\n",
    "        new_filename = \"DCIM_store\"\n",
    "    else:\n",
    "        # Remove leading zeros and check if the filename is already in the desired format\n",
    "        new_filename = filename.lstrip(\"0\")\n",
    "        if not new_filename:\n",
    "            new_filename = \"0\"  # Handle the case where the filename is \"0.jpg\"\n",
    "\n",
    "    # Create the new file path\n",
    "    old_path = os.path.join(directory, filename)\n",
    "    new_path = os.path.join(directory, new_filename)\n",
    "\n",
    "    # Rename the file\n",
    "    os.rename(old_path, new_path)\n",
    "\n",
    "print(\"Image files renamed successfully!\")\n"
   ]
  },
  {
   "cell_type": "code",
   "execution_count": 16,
   "id": "d8a9f9dd-72c1-4a3d-81b7-5f49b74a82d6",
   "metadata": {},
   "outputs": [],
   "source": [
    "# def rename_images(folder_path):\n",
    "#     # Get a list of all files in the folder\n",
    "#     file_list = os.listdir(folder_path)\n",
    "\n",
    "#     find . -name \".DS_Store\" -delete\n",
    "    \n",
    "#     # Sort the files to ensure they are processed in the right order\n",
    "#     file_list.sort()\n",
    "    \n",
    "#     for index, file_name in enumerate(file_list, 1):\n",
    "#         # Construct the new name using the index\n",
    "#         new_name = str(index) + os.path.splitext(file_name)[1]\n",
    "        \n",
    "#         # Get the full paths of the old and new names\n",
    "#         old_path = os.path.join(folder_path, file_name)\n",
    "#         new_path = os.path.join(folder_path, new_name)\n",
    "        \n",
    "#         # Rename the file\n",
    "#         os.rename(old_path, new_path)\n",
    "#         print(f\"Renamed {file_name} to {new_name}\")\n",
    "\n",
    "# # Replace 'folder_path' with the actual path of the folder containing the images\n",
    "# folder_path = \"/Users/ash/Desktop/webcite/Blender 3D/Bell_imgs_train\"\n",
    "# rename_images(folder_path)\n"
   ]
  }
 ],
 "metadata": {
  "kernelspec": {
   "display_name": "Python 3 (ipykernel)",
   "language": "python",
   "name": "python3"
  },
  "language_info": {
   "codemirror_mode": {
    "name": "ipython",
    "version": 3
   },
   "file_extension": ".py",
   "mimetype": "text/x-python",
   "name": "python",
   "nbconvert_exporter": "python",
   "pygments_lexer": "ipython3",
   "version": "3.10.12"
  }
 },
 "nbformat": 4,
 "nbformat_minor": 5
}
